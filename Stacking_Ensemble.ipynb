{
 "cells": [
  {
   "cell_type": "markdown",
   "metadata": {},
   "source": [
    "### Stacking_Ensemble for multi-label classification\n",
    "\n",
    "In this notebook, We build a stacking ensemble model, with Random Forest, SVM, Naive Bayes, XGBoost, Logistic Regression\n",
    "and K-Nearest Neighbor as weak learners, and use Logistic Regression as the stage-2 model. Achieved 69.92% on accuracy and 0.67 f1-score."
   ]
  },
  {
   "cell_type": "code",
   "execution_count": 2,
   "metadata": {
    "colab": {
     "base_uri": "https://localhost:8080/"
    },
    "id": "XDFjAG-Cqo2T",
    "outputId": "170efaa6-c7ed-4c3b-a1b4-2076b6ae5a67"
   },
   "outputs": [],
   "source": [
    "import pandas as pd\n",
    "import pickle as pkl\n",
    "import numpy as np\n",
    "\n",
    "pd.set_option('display.max_columns', None)"
   ]
  },
  {
   "cell_type": "code",
   "execution_count": 3,
   "metadata": {},
   "outputs": [],
   "source": [
    "train_data = pd.read_csv(\"train.tsv\", delimiter='\\t')\n",
    "val_data = pd.read_csv(\"val.tsv\", delimiter='\\t')\n",
    "test_data = pd.read_csv(\"test.tsv\", delimiter='\\t')"
   ]
  },
  {
   "cell_type": "code",
   "execution_count": 4,
   "metadata": {},
   "outputs": [
    {
     "data": {
      "text/html": [
       "<div>\n",
       "<style scoped>\n",
       "    .dataframe tbody tr th:only-of-type {\n",
       "        vertical-align: middle;\n",
       "    }\n",
       "\n",
       "    .dataframe tbody tr th {\n",
       "        vertical-align: top;\n",
       "    }\n",
       "\n",
       "    .dataframe thead th {\n",
       "        text-align: right;\n",
       "    }\n",
       "</style>\n",
       "<table border=\"1\" class=\"dataframe\">\n",
       "  <thead>\n",
       "    <tr style=\"text-align: right;\">\n",
       "      <th></th>\n",
       "      <th>title</th>\n",
       "      <th>text</th>\n",
       "      <th>titletext</th>\n",
       "      <th>label</th>\n",
       "    </tr>\n",
       "  </thead>\n",
       "  <tbody>\n",
       "    <tr>\n",
       "      <th>0</th>\n",
       "      <td>Ongoing dry nose and yellow boogers since arou...</td>\n",
       "      <td>[removed]</td>\n",
       "      <td>Ongoing dry nose and yellow boogers since arou...</td>\n",
       "      <td>0</td>\n",
       "    </tr>\n",
       "    <tr>\n",
       "      <th>1</th>\n",
       "      <td>Requesting help</td>\n",
       "      <td>I started feeling ill June 19, I got tested 2 ...</td>\n",
       "      <td>Requesting help I started feeling ill June 19,...</td>\n",
       "      <td>2</td>\n",
       "    </tr>\n",
       "    <tr>\n",
       "      <th>2</th>\n",
       "      <td>What do you think of my moms symptoms. Should ...</td>\n",
       "      <td>So a week ago my mom vomited twice unexplainab...</td>\n",
       "      <td>What do you think of my moms symptoms. Should ...</td>\n",
       "      <td>0</td>\n",
       "    </tr>\n",
       "    <tr>\n",
       "      <th>3</th>\n",
       "      <td>How should I prepare as a single person</td>\n",
       "      <td>Hi All. I’m single and live alone. All my fami...</td>\n",
       "      <td>How should I prepare as a single person Hi All...</td>\n",
       "      <td>0</td>\n",
       "    </tr>\n",
       "    <tr>\n",
       "      <th>4</th>\n",
       "      <td>How long were yall testing positive ?</td>\n",
       "      <td>Im at day 25 pretty much asymptomatic . Only t...</td>\n",
       "      <td>How long were yall testing positive ? Im at da...</td>\n",
       "      <td>2</td>\n",
       "    </tr>\n",
       "  </tbody>\n",
       "</table>\n",
       "</div>"
      ],
      "text/plain": [
       "                                               title  \\\n",
       "0  Ongoing dry nose and yellow boogers since arou...   \n",
       "1                                    Requesting help   \n",
       "2  What do you think of my moms symptoms. Should ...   \n",
       "3            How should I prepare as a single person   \n",
       "4              How long were yall testing positive ?   \n",
       "\n",
       "                                                text  \\\n",
       "0                                          [removed]   \n",
       "1  I started feeling ill June 19, I got tested 2 ...   \n",
       "2  So a week ago my mom vomited twice unexplainab...   \n",
       "3  Hi All. I’m single and live alone. All my fami...   \n",
       "4  Im at day 25 pretty much asymptomatic . Only t...   \n",
       "\n",
       "                                           titletext  label  \n",
       "0  Ongoing dry nose and yellow boogers since arou...      0  \n",
       "1  Requesting help I started feeling ill June 19,...      2  \n",
       "2  What do you think of my moms symptoms. Should ...      0  \n",
       "3  How should I prepare as a single person Hi All...      0  \n",
       "4  How long were yall testing positive ? Im at da...      2  "
      ]
     },
     "execution_count": 4,
     "metadata": {},
     "output_type": "execute_result"
    }
   ],
   "source": [
    "train_data.head()"
   ]
  },
  {
   "cell_type": "code",
   "execution_count": 5,
   "metadata": {},
   "outputs": [],
   "source": [
    "from string import punctuation\n",
    "\n",
    "def preprocess(seq):\n",
    "    seq = ''.join([ch for ch in seq if ch not in punctuation])\n",
    "    seq.replace('\\n', ' ')\n",
    "    return seq\n",
    "\n",
    "for data in [train_data, val_data, test_data]:\n",
    "    data['clean_text'] = data['titletext'].astype(str).apply(preprocess)\n",
    "\n",
    "train_data = train_data[['clean_text', 'label']]\n",
    "val_data = val_data[['clean_text', 'label']]\n",
    "test_data = test_data[['clean_text', 'label']]"
   ]
  },
  {
   "cell_type": "code",
   "execution_count": 6,
   "metadata": {},
   "outputs": [],
   "source": [
    "X_train, X_val, X_test = train_data['clean_text'], val_data['clean_text'], test_data['clean_text']\n",
    "y_train, y_val, y_test = train_data['label'], val_data['label'], test_data['label']"
   ]
  },
  {
   "cell_type": "code",
   "execution_count": 7,
   "metadata": {},
   "outputs": [],
   "source": [
    "from sklearn.feature_extraction.text import TfidfVectorizer"
   ]
  },
  {
   "cell_type": "code",
   "execution_count": 8,
   "metadata": {},
   "outputs": [],
   "source": [
    "tfidf_vectorizer = TfidfVectorizer(stop_words='english')\n",
    "\n",
    "X_train = tfidf_vectorizer.fit_transform(X_train)\n",
    "X_val = tfidf_vectorizer.transform(X_val)\n",
    "X_test = tfidf_vectorizer.transform(X_test)"
   ]
  },
  {
   "cell_type": "code",
   "execution_count": 9,
   "metadata": {},
   "outputs": [],
   "source": [
    "from sklearn.ensemble import RandomForestClassifier\n",
    "from sklearn.svm import SVC\n",
    "from sklearn.linear_model import LogisticRegression\n",
    "from sklearn.naive_bayes import BernoulliNB, MultinomialNB\n",
    "from sklearn.neighbors import KNeighborsClassifier\n",
    "from sklearn.ensemble import StackingClassifier\n",
    "from sklearn.metrics import accuracy_score, f1_score, confusion_matrix\n",
    "import xgboost as xgb\n",
    "from sklearn.model_selection import KFold"
   ]
  },
  {
   "cell_type": "code",
   "execution_count": 22,
   "metadata": {},
   "outputs": [
    {
     "data": {
      "text/plain": [
       "StackingClassifier(estimators=[('rf',\n",
       "                                RandomForestClassifier(class_weight='balanced',\n",
       "                                                       n_estimators=300)),\n",
       "                               ('svm', SVC(class_weight='balanced')),\n",
       "                               ('NB', MultinomialNB()),\n",
       "                               ('xgb',\n",
       "                                XGBClassifier(base_score=None, booster=None,\n",
       "                                              colsample_bylevel=None,\n",
       "                                              colsample_bynode=None,\n",
       "                                              colsample_bytree=None, gamma=None,\n",
       "                                              gpu_id=None,\n",
       "                                              importance_type='gain',\n",
       "                                              interaction_constraints=...\n",
       "                                              num_parallel_tree=None,\n",
       "                                              objective='multi:softmax',\n",
       "                                              random_state=None, reg_alpha=None,\n",
       "                                              reg_lambda=None,\n",
       "                                              scale_pos_weight=None,\n",
       "                                              subsample=None, tree_method=None,\n",
       "                                              validate_parameters=None,\n",
       "                                              verbosity=None)),\n",
       "                               ('lr',\n",
       "                                LogisticRegression(class_weight='balanced',\n",
       "                                                   max_iter=1000,\n",
       "                                                   solver='sag')),\n",
       "                               ('knn', KNeighborsClassifier(n_neighbors=10))],\n",
       "                   final_estimator=LogisticRegression(solver='sag'))"
      ]
     },
     "execution_count": 22,
     "metadata": {},
     "output_type": "execute_result"
    }
   ],
   "source": [
    "estimators = [\n",
    "    ('rf', RandomForestClassifier(n_estimators=300, class_weight='balanced')),\n",
    "    ('svm', SVC(class_weight='balanced')), \n",
    "    ('NB', MultinomialNB()),\n",
    "    ('xgb', xgb.XGBClassifier(objective='multi:softmax', n_estimators=200, max_depth=10)),\n",
    "    ('lr', LogisticRegression(class_weight='balanced', solver='sag', max_iter=1000)),\n",
    "    ('knn', KNeighborsClassifier(n_neighbors=10))\n",
    "]\n",
    "\n",
    "clf = StackingClassifier(\n",
    "    estimators=estimators, final_estimator=LogisticRegression(solver = 'sag')\n",
    ")\n",
    "\n",
    "clf.fit(X_train, y_train)"
   ]
  },
  {
   "cell_type": "code",
   "execution_count": 24,
   "metadata": {},
   "outputs": [
    {
     "data": {
      "text/plain": [
       "0.6850848681834597"
      ]
     },
     "execution_count": 24,
     "metadata": {},
     "output_type": "execute_result"
    }
   ],
   "source": [
    "y_hat = clf.predict(X_val)\n",
    "accuracy_score(y_hat, y_val)"
   ]
  },
  {
   "cell_type": "code",
   "execution_count": 27,
   "metadata": {},
   "outputs": [],
   "source": [
    "import pickle as pkl\n",
    "f = open(\"stacking_ensemble\", 'wb')\n",
    "pkl.dump(clf, f)"
   ]
  },
  {
   "cell_type": "code",
   "execution_count": 10,
   "metadata": {},
   "outputs": [],
   "source": [
    "f = open(\"stacking_ensemble\", 'rb')\n",
    "clf = pkl.load(f)"
   ]
  },
  {
   "cell_type": "code",
   "execution_count": 11,
   "metadata": {},
   "outputs": [
    {
     "data": {
      "text/plain": [
       "0.6991552956465237"
      ]
     },
     "execution_count": 11,
     "metadata": {},
     "output_type": "execute_result"
    }
   ],
   "source": [
    "y_pred = clf.predict(X_test)\n",
    "accuracy_score(y_pred, y_test)"
   ]
  },
  {
   "cell_type": "code",
   "execution_count": 21,
   "metadata": {
    "id": "-ZYGKpFS-qjg"
   },
   "outputs": [
    {
     "data": {
      "text/plain": [
       "0.6758429605615863"
      ]
     },
     "execution_count": 21,
     "metadata": {},
     "output_type": "execute_result"
    }
   ],
   "source": [
    "f1_score(y_test, y_pred, average='weighted')"
   ]
  },
  {
   "cell_type": "code",
   "execution_count": null,
   "metadata": {},
   "outputs": [],
   "source": []
  }
 ],
 "metadata": {
  "colab": {
   "collapsed_sections": [],
   "name": "Baseline.ipynb",
   "provenance": []
  },
  "kernelspec": {
   "display_name": "Python 3",
   "language": "python",
   "name": "python3"
  },
  "language_info": {
   "codemirror_mode": {
    "name": "ipython",
    "version": 3
   },
   "file_extension": ".py",
   "mimetype": "text/x-python",
   "name": "python",
   "nbconvert_exporter": "python",
   "pygments_lexer": "ipython3",
   "version": "3.8.5"
  }
 },
 "nbformat": 4,
 "nbformat_minor": 1
}
